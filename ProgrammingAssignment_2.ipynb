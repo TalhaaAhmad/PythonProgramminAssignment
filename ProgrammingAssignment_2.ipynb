{
 "cells": [
  {
   "attachments": {},
   "cell_type": "markdown",
   "metadata": {},
   "source": [
    "## Programming Assignment_2\n",
    "-------------"
   ]
  },
  {
   "attachments": {},
   "cell_type": "markdown",
   "metadata": {},
   "source": [
    "### 1. Write a Python program to convert kilometers to miles?\n",
    "##### Sol."
   ]
  },
  {
   "cell_type": "code",
   "execution_count": 4,
   "metadata": {},
   "outputs": [
    {
     "name": "stdout",
     "output_type": "stream",
     "text": [
      "For 135km equivalent distance travelled  in miles = 83.88531944772392\n"
     ]
    }
   ],
   "source": [
    "km = int(input(\"Enter distance travelled in Kilometers : \"))\n",
    "\n",
    "# Distance travelled in Miles\n",
    "miles = km / 1.60934\n",
    "\n",
    "print(\"For {}km equivalent distance travelled  in miles = {}\".format(km, miles))"
   ]
  },
  {
   "attachments": {},
   "cell_type": "markdown",
   "metadata": {},
   "source": [
    "### 2. Write a Python program to convert Celcius to Fahrenheit ?\n",
    "##### Sol."
   ]
  },
  {
   "cell_type": "code",
   "execution_count": 5,
   "metadata": {},
   "outputs": [
    {
     "name": "stdout",
     "output_type": "stream",
     "text": [
      "For Celcius = 45 equivalent Fahrenheit = 113.0\n"
     ]
    }
   ],
   "source": [
    "# Celcius\n",
    "c = 45\n",
    "\n",
    "# Fahrenheit\n",
    "f = (9*c/5)+32 \n",
    "\n",
    "print('For Celcius = {} equivalent Fahrenheit = {}'.format(c, f))"
   ]
  },
  {
   "attachments": {},
   "cell_type": "markdown",
   "metadata": {},
   "source": [
    "### 3. Write a Python program to display calender?\n",
    "##### Sol."
   ]
  },
  {
   "cell_type": "code",
   "execution_count": 6,
   "metadata": {},
   "outputs": [
    {
     "name": "stdout",
     "output_type": "stream",
     "text": [
      "     April 2023\n",
      "Mo Tu We Th Fr Sa Su\n",
      "                1  2\n",
      " 3  4  5  6  7  8  9\n",
      "10 11 12 13 14 15 16\n",
      "17 18 19 20 21 22 23\n",
      "24 25 26 27 28 29 30\n",
      "\n"
     ]
    }
   ],
   "source": [
    "# Import Library\n",
    "import calendar\n",
    "\n",
    "# Year and Month\n",
    "year = int(input(\"Enter Year : \"))\n",
    "month = int(input(\"Enter Month : \"))\n",
    "\n",
    "# Calender\n",
    "cal = calendar.month(year, month)\n",
    "\n",
    "print(cal)"
   ]
  },
  {
   "cell_type": "code",
   "execution_count": 7,
   "metadata": {},
   "outputs": [
    {
     "name": "stdout",
     "output_type": "stream",
     "text": [
      "                                  2023\n",
      "\n",
      "      January                   February                   March\n",
      "Mo Tu We Th Fr Sa Su      Mo Tu We Th Fr Sa Su      Mo Tu We Th Fr Sa Su\n",
      "                   1             1  2  3  4  5             1  2  3  4  5\n",
      " 2  3  4  5  6  7  8       6  7  8  9 10 11 12       6  7  8  9 10 11 12\n",
      " 9 10 11 12 13 14 15      13 14 15 16 17 18 19      13 14 15 16 17 18 19\n",
      "16 17 18 19 20 21 22      20 21 22 23 24 25 26      20 21 22 23 24 25 26\n",
      "23 24 25 26 27 28 29      27 28                     27 28 29 30 31\n",
      "30 31\n",
      "\n",
      "       April                      May                       June\n",
      "Mo Tu We Th Fr Sa Su      Mo Tu We Th Fr Sa Su      Mo Tu We Th Fr Sa Su\n",
      "                1  2       1  2  3  4  5  6  7                1  2  3  4\n",
      " 3  4  5  6  7  8  9       8  9 10 11 12 13 14       5  6  7  8  9 10 11\n",
      "10 11 12 13 14 15 16      15 16 17 18 19 20 21      12 13 14 15 16 17 18\n",
      "17 18 19 20 21 22 23      22 23 24 25 26 27 28      19 20 21 22 23 24 25\n",
      "24 25 26 27 28 29 30      29 30 31                  26 27 28 29 30\n",
      "\n",
      "        July                     August                  September\n",
      "Mo Tu We Th Fr Sa Su      Mo Tu We Th Fr Sa Su      Mo Tu We Th Fr Sa Su\n",
      "                1  2          1  2  3  4  5  6                   1  2  3\n",
      " 3  4  5  6  7  8  9       7  8  9 10 11 12 13       4  5  6  7  8  9 10\n",
      "10 11 12 13 14 15 16      14 15 16 17 18 19 20      11 12 13 14 15 16 17\n",
      "17 18 19 20 21 22 23      21 22 23 24 25 26 27      18 19 20 21 22 23 24\n",
      "24 25 26 27 28 29 30      28 29 30 31               25 26 27 28 29 30\n",
      "31\n",
      "\n",
      "      October                   November                  December\n",
      "Mo Tu We Th Fr Sa Su      Mo Tu We Th Fr Sa Su      Mo Tu We Th Fr Sa Su\n",
      "                   1             1  2  3  4  5                   1  2  3\n",
      " 2  3  4  5  6  7  8       6  7  8  9 10 11 12       4  5  6  7  8  9 10\n",
      " 9 10 11 12 13 14 15      13 14 15 16 17 18 19      11 12 13 14 15 16 17\n",
      "16 17 18 19 20 21 22      20 21 22 23 24 25 26      18 19 20 21 22 23 24\n",
      "23 24 25 26 27 28 29      27 28 29 30               25 26 27 28 29 30 31\n",
      "30 31\n",
      "\n"
     ]
    }
   ],
   "source": [
    "# Whole Year Calender\n",
    "year = int(input(\"Enter Year : \"))\n",
    "cal = calendar.calendar(year)\n",
    "\n",
    "print(cal)"
   ]
  },
  {
   "attachments": {},
   "cell_type": "markdown",
   "metadata": {},
   "source": [
    "### 4. Write a python program to solve quadratic equation?\n",
    "##### Sol:"
   ]
  },
  {
   "cell_type": "code",
   "execution_count": 9,
   "metadata": {},
   "outputs": [
    {
     "name": "stdout",
     "output_type": "stream",
     "text": [
      "ax^2 + bx^1 + c = 0\n",
      "Enter the Coeff a, b and constant c\n",
      "\n",
      "For Quadratic Equation 1x^2 + -9bx^1 + 14\n",
      "The Solutions are : 7.0 and 2.0\n"
     ]
    }
   ],
   "source": [
    "# Import Library\n",
    "import math\n",
    "\n",
    "# General Quadatic Equation Form\n",
    "print(\"ax^2 + bx^1 + c = 0\")\n",
    "\n",
    "# Input\n",
    "print(\"Enter the Coeff a, b and constant c\")\n",
    "a = int(input(\"Enter the Coeff of a : \"))\n",
    "b = int(input(\"Enter the Coeff of b : \"))\n",
    "c = int(input(\"Enter the Constant c : \"))\n",
    "\n",
    "# Calculation SquareRoot Inner Part\n",
    "d = (b**2) - (4*a*c)\n",
    "\n",
    "# Roots\n",
    "root1 = ((-1*b)+(math.sqrt(d))) / (2*a)\n",
    "root2 = ((-1*b)-(math.sqrt(d))) / (2*a)\n",
    "\n",
    "print(\"\\nFor Quadratic Equation {}x^2 + {}bx^1 + {}\".format(a, b, c))\n",
    "print(\"The Solutions are : {} and {}\".format(root1, root2))\n"
   ]
  },
  {
   "attachments": {},
   "cell_type": "markdown",
   "metadata": {},
   "source": [
    "### 5. Write a Python program to swap two variables without temp variables?\n",
    "##### Sol:"
   ]
  },
  {
   "cell_type": "code",
   "execution_count": 10,
   "metadata": {},
   "outputs": [
    {
     "name": "stdout",
     "output_type": "stream",
     "text": [
      "Before Swaping :\n",
      "First Number = 135 and Second Number = 34\n",
      "Before Swaping :\n",
      "First Number = 34 and Second Number = 135\n"
     ]
    }
   ],
   "source": [
    "var1 = int(input(\"Enter First Number : \"))\n",
    "var2 = int(input(\"Enter Second Number : \"))\n",
    "\n",
    "print(\"Before Swaping :\\nFirst Number = {} and Second Number = {}\".format(var1, var2))\n",
    "\n",
    "# Swapping\n",
    "var2 = var1 + var2\n",
    "var1 = var2 - var1\n",
    "var2 = var2 - var1 \n",
    "\n",
    "print(\"Before Swaping :\\nFirst Number = {} and Second Number = {}\".format(var1, var2))"
   ]
  }
 ],
 "metadata": {
  "kernelspec": {
   "display_name": "Python 3",
   "language": "python",
   "name": "python3"
  },
  "language_info": {
   "codemirror_mode": {
    "name": "ipython",
    "version": 3
   },
   "file_extension": ".py",
   "mimetype": "text/x-python",
   "name": "python",
   "nbconvert_exporter": "python",
   "pygments_lexer": "ipython3",
   "version": "3.9.9"
  },
  "orig_nbformat": 4
 },
 "nbformat": 4,
 "nbformat_minor": 2
}
