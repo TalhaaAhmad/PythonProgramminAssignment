{
 "cells": [
  {
   "cell_type": "markdown",
   "metadata": {},
   "source": [
    "## Programming Assignment_1\n",
    "-------------"
   ]
  },
  {
   "attachments": {},
   "cell_type": "markdown",
   "metadata": {},
   "source": [
    "### 1. Write a Python program to print \"Hello Python\"?\n",
    "##### Sol: "
   ]
  },
  {
   "cell_type": "code",
   "execution_count": 10,
   "metadata": {},
   "outputs": [
    {
     "name": "stdout",
     "output_type": "stream",
     "text": [
      "Hello Python\n"
     ]
    }
   ],
   "source": [
    "print(\"Hello Python\")"
   ]
  },
  {
   "attachments": {},
   "cell_type": "markdown",
   "metadata": {},
   "source": [
    "### 2. Write a Python program to do arithmetical operation addition and division ?\n",
    "##### Sol:"
   ]
  },
  {
   "cell_type": "code",
   "execution_count": 11,
   "metadata": {},
   "outputs": [
    {
     "name": "stdout",
     "output_type": "stream",
     "text": [
      "24\n",
      "5.0\n"
     ]
    }
   ],
   "source": [
    "num1 = 20\n",
    "num2 = 4\n",
    "\n",
    "# Addition\n",
    "add = num1 + num2\n",
    "\n",
    "# Division\n",
    "div = num1 / num2\n",
    "\n",
    "print(add)\n",
    "print(div)"
   ]
  },
  {
   "attachments": {},
   "cell_type": "markdown",
   "metadata": {},
   "source": [
    "### 3. Write a Python program to find the area of a triangle ?\n",
    "##### Sol:"
   ]
  },
  {
   "cell_type": "code",
   "execution_count": 12,
   "metadata": {},
   "outputs": [
    {
     "name": "stdout",
     "output_type": "stream",
     "text": [
      "Area of triangle :  2250.0\n"
     ]
    }
   ],
   "source": [
    "height = 150\n",
    "base = 30\n",
    "\n",
    "# Area of a triangle\n",
    "area = height * base / 2\n",
    "\n",
    "print(\"Area of triangle : \", area)"
   ]
  },
  {
   "attachments": {},
   "cell_type": "markdown",
   "metadata": {},
   "source": [
    "### 4. Write a Python program to swap to variables?\n",
    "##### Sol:"
   ]
  },
  {
   "cell_type": "code",
   "execution_count": 13,
   "metadata": {},
   "outputs": [
    {
     "name": "stdout",
     "output_type": "stream",
     "text": [
      "Before Swaping :\n",
      "First Number = 100 and Second Number = 2\n",
      "After Swaping :\n",
      "First Number = 2 and Second Number = 2\n"
     ]
    }
   ],
   "source": [
    "var1 = int(input(\"Enter First Number : \"))\n",
    "var2 = int(input(\"Enter Second Number : \"))\n",
    "\n",
    "print(\"Before Swaping :\\nFirst Number = {} and Second Number = {}\".format(var1, var2))\n",
    "\n",
    "temp = var1\n",
    "var1 = var2\n",
    "var2 = var1\n",
    "\n",
    "print(\"After Swaping :\\nFirst Number = {} and Second Number = {}\".format(var1, var2))"
   ]
  },
  {
   "attachments": {},
   "cell_type": "markdown",
   "metadata": {},
   "source": [
    "### 5. Write a Python program to generate a random number?\n",
    "##### Sol:"
   ]
  },
  {
   "cell_type": "code",
   "execution_count": 14,
   "metadata": {},
   "outputs": [
    {
     "name": "stdout",
     "output_type": "stream",
     "text": [
      "0.3216677715251809\n",
      "945\n"
     ]
    }
   ],
   "source": [
    "# Import Library\n",
    "import random\n",
    "\n",
    "print(random.random())\n",
    "print(random.randint(1, 1000))\n"
   ]
  }
 ],
 "metadata": {
  "kernelspec": {
   "display_name": "Python 3",
   "language": "python",
   "name": "python3"
  },
  "language_info": {
   "codemirror_mode": {
    "name": "ipython",
    "version": 3
   },
   "file_extension": ".py",
   "mimetype": "text/x-python",
   "name": "python",
   "nbconvert_exporter": "python",
   "pygments_lexer": "ipython3",
   "version": "3.9.9"
  },
  "orig_nbformat": 4
 },
 "nbformat": 4,
 "nbformat_minor": 2
}
